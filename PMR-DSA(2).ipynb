{
 "cells": [
  {
   "cell_type": "markdown",
   "id": "3c534038",
   "metadata": {},
   "source": [
    "##### Given a string str, your task is to write a program which takes a string str as its only input and returns an integer denoting the no of palindromic subsequence (need not necessarily be distinct) which could be formed from the string str.\n",
    "\n",
    "##### Input Format:\n",
    "\n",
    "The first and only line of input contains string str.\n",
    "\n",
    "##### Output Format:\n",
    "\n",
    "The output will be an integer denoting the no of palindromic subsequence which could be formed from the string str.\n",
    "\n",
    "##### Sample Input :\n",
    "\n",
    "abcdef"
   ]
  },
  {
   "cell_type": "code",
   "execution_count": 18,
   "id": "d015c429",
   "metadata": {},
   "outputs": [
    {
     "name": "stdout",
     "output_type": "stream",
     "text": [
      "Input String : abcdef\n",
      "6\n"
     ]
    }
   ],
   "source": [
    "\n",
    "def cps(str):\n",
    "    F = len(str)\n",
    "    s = [[0 for i in range(F+2)]for j in range(F+2)]\n",
    "    for i in range(F):\n",
    "        s[i][i] = 1\n",
    "        \n",
    "    for Q in range(2,F+1):\n",
    "        for i in range(F):\n",
    "            e = Q + i - 1\n",
    "            if (e < F):\n",
    "                if (str[i] == str[e]):\n",
    "                    s[i][e] = (s[i][e - 1] +\n",
    "                                s[i + 1][e] + 1)\n",
    "                else:\n",
    "                    s[i][e] = (s[i][e - 1] +\n",
    "                                s[i + 1][e] -\n",
    "                                s[i + 1][e - 1])\n",
    "    return s[0][F-1]\n",
    "str =input(\"Input String : \")\n",
    "print( cps(str))\n"
   ]
  },
  {
   "cell_type": "code",
   "execution_count": null,
   "id": "8284a50b",
   "metadata": {},
   "outputs": [],
   "source": []
  }
 ],
 "metadata": {
  "kernelspec": {
   "display_name": "Python 3 (ipykernel)",
   "language": "python",
   "name": "python3"
  },
  "language_info": {
   "codemirror_mode": {
    "name": "ipython",
    "version": 3
   },
   "file_extension": ".py",
   "mimetype": "text/x-python",
   "name": "python",
   "nbconvert_exporter": "python",
   "pygments_lexer": "ipython3",
   "version": "3.9.12"
  }
 },
 "nbformat": 4,
 "nbformat_minor": 5
}
